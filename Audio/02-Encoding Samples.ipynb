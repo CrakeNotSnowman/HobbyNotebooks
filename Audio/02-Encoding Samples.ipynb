{
 "cells": [
  {
   "cell_type": "markdown",
   "metadata": {
    "collapsed": true
   },
   "source": [
    "Sweet!\n",
    "===\n",
    "01 Gave us a few tools which seem useful in analyzing sound. To encode the sound, lets break up the file into small samples. Small enough that we can focus on only voice/unvoiced/silent utterances, but large enough that low frequencies can be recorded and noticed.\n",
    "\n",
    "[transfer url](http://stevemorphet.weebly.com/speech-and-audio-processing.html)\n",
    "\n",
    "First, lets get the imports setup"
   ]
  },
  {
   "cell_type": "code",
   "execution_count": 1,
   "metadata": {
    "collapsed": false
   },
   "outputs": [],
   "source": [
    "# Imports\n",
    "import matplotlib\n",
    "matplotlib.use('nbagg')\n",
    "\n",
    "import IPython\n",
    "from matplotlib.mlab import find\n",
    "import matplotlib.pyplot as plt\n",
    "\n",
    "import wave\n",
    "import struct\n",
    "import numpy as np\n",
    "import math\n",
    "from scipy.fftpack import fft\n",
    "from scipy.io import wavfile\n",
    "from scipy.signal import blackmanharris, fftconvolve\n",
    "from aubio import source, pitch"
   ]
  },
  {
   "cell_type": "markdown",
   "metadata": {},
   "source": [
    "Next, lets wrap everything up into just a few nice/clean functions"
   ]
  },
  {
   "cell_type": "code",
   "execution_count": 28,
   "metadata": {
    "collapsed": true
   },
   "outputs": [],
   "source": [
    "def sampProfile(sig, fs):\n",
    "    # get RMS\n",
    "    ms = [(abs(i) ** 2)/float(len(sig)) for i in sig]\n",
    "    rms = np.sqrt(sum(ms))/float(len(sig))\n",
    "    \n",
    "    # get max amplitude\n",
    "    maxAmp = max(max(sig), abs(min(sig)))\n",
    "    \n",
    "    # get Zero Crossings\n",
    "    zero_crossings = 0\n",
    "    last_val = sig[0]\n",
    "    for i in range(1,len(sig)):\n",
    "        if last_val > 0 and sig[i] < 0:\n",
    "            zero_crossings +=1\n",
    "        elif last_val < 0 and sig[i] > 0:\n",
    "            zero_crossings += 1\n",
    "        last_val = sig[i]\n",
    "        \n",
    "    # get Fundamental Frequency\n",
    "    win_s = len(sig)\n",
    "    pitch_o = pitch('yin', win_s, win_s, fs)\n",
    "    sig_for_pitch = np.array(sig).astype(np.float32) #recast type\n",
    "    fund_freq = pitch_o(sig_for_pitch)[0]\n",
    "    \n",
    "    return [rms, maxAmp, zero_crossings, fund_freq]"
   ]
  },
  {
   "cell_type": "code",
   "execution_count": null,
   "metadata": {
    "collapsed": true
   },
   "outputs": [],
   "source": []
  },
  {
   "cell_type": "code",
   "execution_count": 33,
   "metadata": {
    "collapsed": false
   },
   "outputs": [
    {
     "name": "stdout",
     "output_type": "stream",
     "text": [
      "\n",
      "aaa.wav\n",
      "Sample index | RMS | maxAmp | zero crossing | Fundamental Freq\n",
      "0 [1.1295429418574874, 8925, 357, 108.9625]\n",
      "1024 [1.5167635476446082, 8925, 473, 34.448311]\n",
      "2048 [1.4822408297176703, 7935, 478, 105.93098]\n",
      "3072 [1.4699140905114056, 7112, 482, 105.90034]\n",
      "4096 [1.390225277419012, 7112, 472, 104.99764]\n",
      "5120 [1.2896375457220546, 6563, 470, 106.17836]\n",
      "6144 [1.4723511008645438, 8675, 484, 105.46782]\n",
      "7168 [1.4380924489093947, 8675, 481, 105.47495]\n",
      "8192 [1.3368527736749789, 6525, 480, 104.50325]\n",
      "9216 [1.1072954290894628, 6525, 408, 105.26958]\n",
      "10240 [0.50822192958307633, 6409, 231, 992.28986]\n",
      "\n",
      "k.wav\n",
      "Sample index | RMS | maxAmp | zero crossing | Fundamental Freq\n",
      "0 [0.960386451826301, 9651, 804, 2030.2511]\n",
      "1024 [0.57944611606744179, 7441, 667, 1975.0597]\n",
      "2048 [0.24607424691855079, 2423, 299, 8.1683083]\n",
      "\n",
      "sea.wav\n",
      "Sample index | RMS | maxAmp | zero crossing | Fundamental Freq\n",
      "0 [1.7865129530884603, 13114, 225, 144.21259]\n",
      "1024 [1.4522927089275812, 9742, 202, 136.28589]\n",
      "2048 [0.57553808815859053, 4713, 153, 98.604202]\n",
      "3072 [0.28143073647469347, 2261, 103, 89.169228]\n",
      "\n",
      "noVoice.wav\n",
      "Sample index | RMS | maxAmp | zero crossing | Fundamental Freq\n",
      "0 [0.49369967370045992, 3465, 185, 19.635672]\n",
      "1024 [0.54281758143998149, 3465, 181, 9.1742039]\n",
      "2048 [0.52105317824207542, 3307, 207, 9.1769857]\n",
      "3072 [0.49826133612536977, 3307, 195, 9.1764679]\n",
      "4096 [0.50054187673773609, 3681, 167, 18.011999]\n",
      "5120 [0.51153312259640016, 3681, 159, 8.159359]\n",
      "6144 [0.48390887276604927, 3750, 192, 9.1759853]\n",
      "7168 [0.43483309716526902, 3750, 199, 17.619596]\n",
      "8192 [0.44651046114156973, 3046, 185, 9.1785164]\n",
      "9216 [0.51237551842671658, 3622, 198, 9.1770668]\n",
      "10240 [0.52461823670230268, 3622, 192, 18.353947]\n",
      "11264 [0.47996602189470294, 3084, 188, 22.029348]\n",
      "12288 [0.42360213141911363, 2591, 214, 9.1788731]\n",
      "13312 [0.44459669366484139, 3181, 232, 17.61088]\n",
      "14336 [0.46215527836337139, 3181, 209, 9.1748705]\n",
      "15360 [0.43177131887424625, 2626, 195, 17.657465]\n",
      "\n",
      "200sine.wav\n",
      "Sample index | RMS | maxAmp | zero crossing | Fundamental Freq\n",
      "0 [1.3180339767077653, 6057, 108, 200.30357]\n",
      "1024 [1.3326595316022529, 5718, 102, 200.36897]\n",
      "2048 [1.3176436280953094, 5700, 103, 200.24409]\n",
      "3072 [1.3017273212594282, 5331, 105, 200.55409]\n",
      "4096 [1.3107052180978718, 5331, 104, 200.55009]\n",
      "5120 [1.3184614710217042, 5355, 104, 200.1566]\n",
      "6144 [1.3218186053736276, 6013, 106, 200.72871]\n",
      "7168 [1.3291416055759591, 6013, 105, 200.8054]\n",
      "8192 [1.3369321984289799, 5510, 104, 200.57277]\n",
      "9216 [1.3320400048185657, 5510, 104, 200.08324]\n",
      "10240 [1.3278222653246643, 5471, 104, 200.77165]\n",
      "11264 [1.3264357434857159, 5471, 104, 200.77153]\n",
      "12288 [1.3208072756062905, 5640, 101, 200.38542]\n",
      "13312 [1.3150160354333003, 5806, 100, 200.32765]\n",
      "14336 [1.3347180411254682, 5806, 101, 200.62737]\n",
      "15360 [1.3316798533214367, 5435, 102, 200.84544]\n",
      "16384 [1.3081064023555287, 5912, 107, 200.20546]\n",
      "17408 [1.3239489164133273, 5912, 107, 200.28667]\n",
      "18432 [1.3318223243169536, 5622, 102, 200.31311]\n",
      "19456 [1.3186262327337512, 5348, 104, 200.69933]\n",
      "20480 [1.3336780008296079, 6125, 104, 200.40172]\n",
      "\n",
      "hello_world.wav\n",
      "Sample index | RMS | maxAmp | zero crossing | Fundamental Freq\n",
      "0 [0.097105071183620773, 655, 272, 9.1285219]\n",
      "1024 [0.10369260577907186, 655, 247, 7.9672794]\n",
      "2048 [0.11914899964681777, 887, 245, 9.1306086]\n",
      "3072 [1.2023679115456876, 10623, 248, 16000.0]\n",
      "4096 [1.5153893814612436, 10992, 297, 167.02841]\n",
      "5120 [0.99305212171624957, 10992, 238, 512.63263]\n",
      "6144 [0.66775111367242745, 5161, 210, 100.57259]\n",
      "7168 [0.86339628860434203, 5520, 261, 109.75488]\n",
      "8192 [0.70935965448365212, 5520, 209, 121.44844]\n",
      "9216 [0.28925787558996013, 3689, 211, 139.24678]\n",
      "10240 [0.11288978655134173, 713, 260, 18.264771]\n",
      "11264 [0.10977917736870277, 713, 242, 13.124147]\n"
     ]
    }
   ],
   "source": [
    "samples = [\"aaa.wav\", \"k.wav\", \"sea.wav\", \"noVoice.wav\", \"200sine.wav\", \"hello_world.wav\"]\n",
    "\n",
    "\n",
    "# In seconds:\n",
    "targetWindow = .2\n",
    "# In % of sampSize\n",
    "targetStep = .5\n",
    "\n",
    "decodeBloc = []\n",
    "\n",
    "for fil in samples:\n",
    "    print \"\\n\",fil\n",
    "    fs, sig = wavfile.read(fil)\n",
    "    try:\n",
    "        if len(sig[0]) > 1:\n",
    "            sig1, sig2 = zip(*sig)\n",
    "            sig = sig1\n",
    "            \n",
    "    except:\n",
    "        pass\n",
    "    sampSize = int(2**math.ceil(np.log2(fs*targetWindow)))\n",
    "    sampEnc = []\n",
    "    print \"Sample index | RMS | maxAmp | zero crossing | Fundamental Freq\"\n",
    "    for i in range(0,len(sig)-sampSize,sampSize/2):\n",
    "        vals = sampProfile(sig[i:i+sampSize], fs)\n",
    "        \n",
    "        sampEnc.append([i]+vals)\n",
    "        print i, vals\n",
    "    decodeBloc.append([fil, len(sig), sampEnc])  \n",
    "    \n",
    "    \n",
    "        "
   ]
  },
  {
   "cell_type": "markdown",
   "metadata": {
    "collapsed": true
   },
   "source": [
    "Well that's ... neat.\n",
    "---\n",
    "\n",
    "Ok so when we decode, we'll want to take whatever inputs we are handed, and reconstruct the sig accordingly\n",
    "\n",
    "If we fed it useful values, the reconstruction will sound ...similar and hopefully understandable. \n",
    "\n",
    "This crude setup currently uses 4 values to reconstruct the next 2048 samples, with a step of 1024 samples . \n",
    "\n",
    "\n",
    "So lets hash out what we're going to need\n",
    "\n",
    ">if the signal has an rms > rms_thresh then it's a produced sound\n",
    "\n",
    ">>  if then that signal has zero crossings < zc_thres, it's a voiced sound, use the fund freq\n",
    "  \n",
    ">>  else produce random noise at rms values\n",
    "  \n",
    ">else use 'silent' noise\n",
    "\n",
    "\n",
    "Ok cool, that should give us a framework to move forward from. If it doesn't produce a nice sound, it should at least produce a sound we can improve specifics on\n",
    "  "
   ]
  },
  {
   "cell_type": "code",
   "execution_count": 35,
   "metadata": {
    "collapsed": false
   },
   "outputs": [
    {
     "name": "stdout",
     "output_type": "stream",
     "text": [
      "6\n",
      "aaa.wav\n",
      "12446\n",
      "11 [0, 1.1295429418574874, 8925, 357, 108.9625]\n",
      "k.wav\n",
      "5016\n",
      "3 [0, 0.960386451826301, 9651, 804, 2030.2511]\n",
      "sea.wav\n",
      "5851\n",
      "4 [0, 1.7865129530884603, 13114, 225, 144.21259]\n",
      "noVoice.wav\n",
      "17554\n",
      "16 [0, 0.49369967370045992, 3465, 185, 19.635672]\n",
      "200sine.wav\n",
      "22626\n",
      "21 [0, 1.3180339767077653, 6057, 108, 200.30357]\n",
      "hello_world.wav\n",
      "13746\n",
      "12 [0, 0.097105071183620773, 655, 272, 9.1285219]\n"
     ]
    }
   ],
   "source": [
    "print len(decodeBloc)\n",
    "\n",
    "rms_thres = 0.5\n",
    "zc_thres = 500\n",
    "silent_noise = 0.2\n",
    "\n",
    "samp_len = sampSize\n",
    "print samp_len\n",
    "\n",
    "# Encodings key\n",
    "# 0:Sample index |1: RMS |2: maxAmp |3: zero crossing |4: Fundamental Freq\n",
    "\n",
    "\n",
    "for i in range(len(decodeBloc)):\n",
    "    fl, sigLen, encodings = decodeBloc[i]\n",
    "    \n",
    "    print fl\n",
    "    print sigLen\n",
    "    print len(encodings), encodings[0]\n"
   ]
  },
  {
   "cell_type": "code",
   "execution_count": null,
   "metadata": {
    "collapsed": true
   },
   "outputs": [],
   "source": []
  }
 ],
 "metadata": {
  "anaconda-cloud": {},
  "kernelspec": {
   "display_name": "Python [Root]",
   "language": "python",
   "name": "Python [Root]"
  },
  "language_info": {
   "codemirror_mode": {
    "name": "ipython",
    "version": 2
   },
   "file_extension": ".py",
   "mimetype": "text/x-python",
   "name": "python",
   "nbconvert_exporter": "python",
   "pygments_lexer": "ipython2",
   "version": "2.7.12"
  }
 },
 "nbformat": 4,
 "nbformat_minor": 0
}
