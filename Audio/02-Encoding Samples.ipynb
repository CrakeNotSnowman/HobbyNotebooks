{
 "cells": [
  {
   "cell_type": "markdown",
   "metadata": {
    "collapsed": true
   },
   "source": [
    "Sweet!\n",
    "===\n",
    "01 Gave us a few tools which seem useful in analyzing sound. To encode the sound, lets break up the file into small samples. Small enough that we can focus on only voice/unvoiced/silent utterances, but large enough that low frequencies can be recorded and noticed.\n",
    "\n",
    "[transfer url](http://stevemorphet.weebly.com/speech-and-audio-processing.html)\n",
    "\n",
    "First, lets get the imports setup"
   ]
  },
  {
   "cell_type": "code",
   "execution_count": 7,
   "metadata": {
    "collapsed": false
   },
   "outputs": [],
   "source": [
    "# Imports\n",
    "import matplotlib\n",
    "matplotlib.use('nbagg')\n",
    "\n",
    "import IPython\n",
    "from matplotlib.mlab import find\n",
    "import matplotlib.pyplot as plt\n",
    "\n",
    "import wave\n",
    "import struct\n",
    "import numpy as np\n",
    "import math\n",
    "from scipy.fftpack import fft\n",
    "from scipy.io import wavfile\n",
    "from scipy.signal import blackmanharris, fftconvolve\n",
    "from aubio import source, pitch"
   ]
  },
  {
   "cell_type": "markdown",
   "metadata": {},
   "source": [
    "Next, lets wrap everything up into just a few nice/clean functions"
   ]
  },
  {
   "cell_type": "code",
   "execution_count": 5,
   "metadata": {
    "collapsed": true
   },
   "outputs": [],
   "source": [
    "def sampProfile(sig, fs):\n",
    "    # get RMS\n",
    "    ms = [(abs(i) ** 2)/float(len(sig)) for i in sig]\n",
    "    rms = np.sqrt(sum(ms))\n",
    "    \n",
    "    # get Zero Crossings\n",
    "    zero_crossings = 0\n",
    "    last_val = sig[0]\n",
    "    for i in range(1,len(sig)):\n",
    "        if last_val > 0 and sig[i] < 0:\n",
    "            zero_crossings +=1\n",
    "        elif last_val < 0 and sig[i] > 0:\n",
    "            zero_crossings += 1\n",
    "        last_val = sig[i]\n",
    "        \n",
    "    # get Fundamental Frequency\n",
    "    win_s = len(sig)\n",
    "    pitch_o = pitch('yin', win_s, win_s, fs)\n",
    "    sig_for_pitch = np.array(sig).astype(np.float32) #recast type\n",
    "    fund_freq = pitch_o(sig_for_pitch)[0]\n",
    "    \n",
    "    return rms, zero_crossings, fund_freq"
   ]
  },
  {
   "cell_type": "code",
   "execution_count": null,
   "metadata": {
    "collapsed": true
   },
   "outputs": [],
   "source": []
  },
  {
   "cell_type": "code",
   "execution_count": 8,
   "metadata": {
    "collapsed": false
   },
   "outputs": [
    {
     "name": "stdout",
     "output_type": "stream",
     "text": [
      "2048.0\n",
      "2048.0\n",
      "2048.0\n",
      "2048.0\n"
     ]
    }
   ],
   "source": [
    "samples = [\"aaa.wav\", \"k.wav\", \"noVoice.wav\", \"200sine.wav\"]\n",
    "\n",
    "\n",
    "# In seconds:\n",
    "targetWindow = .2\n",
    "# In % of sampSize\n",
    "targetStep = .5\n",
    "\n",
    "\n",
    "\n",
    "for fil in samples:\n",
    "    fs, sig = wavfile.read(fil)\n",
    "    try:\n",
    "        if len(sig[0]) > 1:\n",
    "            sig1, sig2 = zip(*sig)\n",
    "            sig = sig1\n",
    "            \n",
    "    except:\n",
    "        pass\n",
    "    sampSize = 2**math.ceil(np.log2(fs*targetWindow))\n",
    "    print sampSize"
   ]
  },
  {
   "cell_type": "code",
   "execution_count": null,
   "metadata": {
    "collapsed": true
   },
   "outputs": [],
   "source": []
  }
 ],
 "metadata": {
  "anaconda-cloud": {},
  "kernelspec": {
   "display_name": "Python [Root]",
   "language": "python",
   "name": "Python [Root]"
  },
  "language_info": {
   "codemirror_mode": {
    "name": "ipython",
    "version": 2
   },
   "file_extension": ".py",
   "mimetype": "text/x-python",
   "name": "python",
   "nbconvert_exporter": "python",
   "pygments_lexer": "ipython2",
   "version": "2.7.12"
  }
 },
 "nbformat": 4,
 "nbformat_minor": 0
}
