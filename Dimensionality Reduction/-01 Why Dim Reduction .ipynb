{
 "cells": [
  {
   "cell_type": "markdown",
   "metadata": {},
   "source": [
    "Why Bother with Dimensionality Reduction, its uses and limits\n",
    "===\n",
    "A simple intro\n",
    "---\n",
    "\n",
    "I am an Electrical Engineer. I got into bioinformatics thanks to one of my professors in the EE department whose background is in Signals and Systems and Data Compression. Through his mentorship, I look at many problems through a data compression point of view, \"How much of this data can I either group or get rid of while still maintaining its key signature?\" What that 'key signature' is depends on why I'm even processing the data in the first place. It could be classify the genus a fragment of DNA came from, while not needing to be specific enough to identify the species. It could be indentify cancer from a subset of gene expressions, or a multitude of other things. \n",
    "\n",
    "Whenever I'm faced with one of those questions, I want to group all useful information (Dimensionality reduction), and get rid of anything that's not useful (feature selection). Once I've done those two things, I hopefully have all the information I need (and only what I need). This grouping and chucking is a long process, not the first step, but it is the goal I start with. \n",
    "\n",
    "And important thing to be mindful of is that there is a lower dimensionality limit data. \n",
    "\n",
    "Suppose you have a salesmen walk up to you and he gives you a sales pitch. He's selling a data compression algorithm. He says that the compressor is lossless. You can put i\n",
    "\n",
    "\n",
    "What is Dimensionality Reduction anyway? \n",
    "---\n",
    "Righteo--That probably should have been first, but I doubt you'd be here if you didn't already know the answer in some capacity. "
   ]
  },
  {
   "cell_type": "markdown",
   "metadata": {},
   "source": [
    "Good links to read (What I read to write this)\n",
    "---\n",
    "[This guy](https://prateekvjoshi.com/2014/06/21/what-is-manifold-learning/)\n",
    "[I followed this one to model gene differences in a report](http://www.ncbi.nlm.nih.gov/pmc/articles/PMC2562675/)\n",
    "[Good Intro to Manifold Assumption](http://stats.stackexchange.com/questions/66939/what-is-the-manifold-assumption-in-semi-supervised-learning)\n"
   ]
  },
  {
   "cell_type": "code",
   "execution_count": null,
   "metadata": {
    "collapsed": true
   },
   "outputs": [],
   "source": []
  }
 ],
 "metadata": {
  "anaconda-cloud": {},
  "kernelspec": {
   "display_name": "Python [Root]",
   "language": "python",
   "name": "Python [Root]"
  },
  "language_info": {
   "codemirror_mode": {
    "name": "ipython",
    "version": 2
   },
   "file_extension": ".py",
   "mimetype": "text/x-python",
   "name": "python",
   "nbconvert_exporter": "python",
   "pygments_lexer": "ipython2",
   "version": "2.7.12"
  }
 },
 "nbformat": 4,
 "nbformat_minor": 0
}
