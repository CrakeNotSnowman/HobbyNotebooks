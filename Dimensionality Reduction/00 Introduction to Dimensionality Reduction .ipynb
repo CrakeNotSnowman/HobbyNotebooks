{
 "cells": [
  {
   "cell_type": "markdown",
   "metadata": {},
   "source": [
    "Hello Flatlanders!\n",
    "===\n",
    "Or soon to be flatlanders at least!\n",
    "\n",
    "In this set of notebooks I'm going to play around with uses for dimensionality reduction \n",
    "I like dimesnionality recution for many reasons, and it's rather useful in program and data analysis. As with all the notebooks here this is just for hobby and toy examples to help me learn the concepts and to offer me a set of examples to go back to when I actually need these techniques.\n",
    "\n",
    "There are many good reasons to like dimensioality reduction, however, if I'm being honest, I like DR because it's pretty. DR is often used to help classify and organize sets of data. You can take data will million or more features and reduce it down to around 100 key components and then in that ~100D space you can craft classifiers and clusters to organize your data. And if you desire, you can go straight to 2 or 3 dimensions from you high dimensional space, or your lower (but still larger than we're visually use to) dimensional space \n",
    "\n",
    "And I'm tired of writing this bit, \n",
    "DR is cool. There's lots of ways to do it,\n",
    "where your smaller dims, x, y, z, are some linear combination of your previous $N$ dims (which is used in many modern classifiers due to speed and memory) or where x, y, z, are some non linear combination ($x=N_{i}^{2}-3N_{j}^{\\frac{1}{2}}$, $y=...$, $z=...$)\n",
    "\n",
    "These different ways to combine your data have large impacts on how your final output is distributed, and depending on how your features are related, some methods will offer more insightful visualizations than others.\n",
    "\n",
    "We'll get to it, I'm tired of this, Hurray I'm going to see if that latex bit worked out..\n",
    "(It did but I forgot the closing ')')"
   ]
  },
  {
   "cell_type": "markdown",
   "metadata": {
    "collapsed": true
   },
   "source": [
    "Ok, Because I haven't yet gotten to play with this, I'm going to bring in my Free Book dataset. One night I drank a half pint of whiskey and (by hand so as not to violate the website rules) downloaded most of the top 1oo free ebooks from Project Gutenberg. \n",
    "\n",
    "I'm going to do a really cheap parsing where it's all lowercase, and only split on ' ', '\\n', '\\t', '\\r' (Why does '\\r' exist?) We're also going to implement a lantent semantic library based on my lsalib, but all the code will be hosted here because I need to review and update that library anyway, so why not! :D"
   ]
  },
  {
   "cell_type": "code",
   "execution_count": 60,
   "metadata": {
    "collapsed": false
   },
   "outputs": [],
   "source": [
    "# All imports will be done here\n",
    "# Not my libraries\n",
    "import os\n",
    "import sys\n",
    "import numpy\n",
    "import math \n",
    "from sklearn.decomposition import ProjectedGradientNMF\n",
    "import re\n",
    "\n",
    "# My personal Libraries \n",
    "import kmlistfi"
   ]
  },
  {
   "cell_type": "code",
   "execution_count": 61,
   "metadata": {
    "collapsed": true
   },
   "outputs": [],
   "source": [
    "fls = kmlistfi.les('/home/keith/Documents/Databases/Datasets/GutTop100Books/')"
   ]
  },
  {
   "cell_type": "code",
   "execution_count": 62,
   "metadata": {
    "collapsed": false
   },
   "outputs": [
    {
     "data": {
      "text/plain": [
       "99"
      ]
     },
     "execution_count": 62,
     "metadata": {},
     "output_type": "execute_result"
    }
   ],
   "source": [
    "len(fls)"
   ]
  },
  {
   "cell_type": "code",
   "execution_count": 63,
   "metadata": {
    "collapsed": true
   },
   "outputs": [],
   "source": [
    "# Ok for now this is a block copy and paste\n",
    "#    but I'm tired, such is as it is\n",
    "class termDocMatrix(object):\n",
    "    def __init__(self, saveVerbose=True, wcThreshold=2, parseOn=\" \"):\n",
    "        # Get term-document matrix\n",
    "        # transormation/modified weighting of term-doc matrix \n",
    "        # dimensionality reduction\n",
    "        # clustering of documents in reduced space\n",
    "        self.wcThreshold = wcThreshold\n",
    "        self.saveVerbose = saveVerbose\n",
    "        self.parseOn = parseOn\n",
    "        self.mD = {}\n",
    "        self.tdm = []\n",
    "        self.tdmraw = []\n",
    "        self.termraw = []\n",
    "        self.docs = []\n",
    "        self.docsSize = []\n",
    "        self.terms = []\n",
    "        self.docCount = 0\n",
    "        self.idfweight = False\n",
    "        self.P = []\n",
    "        self.Q = []\n",
    "        self.er = []\n",
    "        self.idfs = []\n",
    "        return\n",
    "    def add(self, newThing, docs=\"\"):\n",
    "        def _mergeDict(self, newD, docs=\"\"):\n",
    "            # Grab doc count so far\n",
    "            docIndex = self.docCount\n",
    "            # Get the correct title\n",
    "            if docs == \"\":\n",
    "                docs = docIndex\n",
    "            self.docs.append(docs)\n",
    "            # Add doc size (useful with tdmraw)\n",
    "            tdWeight = float(sum(newD.values()))\n",
    "            if tdWeight == 0:\n",
    "                tdWeight = 1.\n",
    "            self.docsSize.append(tdWeight)\n",
    "            # Add newD to mD\n",
    "            for key in newD:\n",
    "                if key in self.mD:\n",
    "                    if len(self.mD[key]) < self.docCount:\n",
    "                        for i in range(len(self.mD[key]), self.docCount):\n",
    "                            self.mD[key].append(0.)\n",
    "                    self.mD[key].append(newD[key]/float(tdWeight))\n",
    "                else:\n",
    "                    if self.docCount > 0:\n",
    "                        self.mD[key] = [0.]\n",
    "                        for i in range(1, self.docCount):\n",
    "                            self.mD[key].append(0.)\n",
    "                        self.mD[key].append(newD[key]/float(tdWeight))\n",
    "                    else:\n",
    "                        self.mD[key] =  [newD[key]/float(tdWeight)]\n",
    "            self.docCount += 1\n",
    "            return \n",
    "            \n",
    "        \n",
    "        # Ok what was I just given?\n",
    "        if type(newThing) == list:\n",
    "            # Shit.. Ok we can handle this, a list of what?\n",
    "            if len(newThing) > 0:\n",
    "                if type(newThing[0]) == dict:\n",
    "                    # Sweet, it's some dicts, merge them!\n",
    "                    # Wait, what about the title var?\n",
    "                    if (docs != \"\") and (type(docs) == list) and (len(docs) == len(newThing)):\n",
    "                        for i in range(len(newThing)):\n",
    "                            _mergeDict(self, newThing[i], docs[i])\n",
    "                    else:\n",
    "                        for i in range(len(newThing)):\n",
    "                            _mergeDict(self, newThing[i])\n",
    "\n",
    "                elif type(newThing[0]) in [float, long, int, str, unicode]:\n",
    "                    # Well, I mean I don't see why numbers can't be LSA'ized\n",
    "                    # Convert list to dict, then merge\n",
    "                    newD = {}\n",
    "                    for i in range(len(newThing)):\n",
    "                        if newThing[i] in newD:\n",
    "                            newD[newThing[i]] += 1\n",
    "                        else:\n",
    "                            newD[newThing[i]] = 1\n",
    "                    _mergeDict(self, newD, docs)\n",
    "                else:\n",
    "                    raise(TypeError, \"Elements of list are not valid inputs\")\n",
    "\n",
    "                \n",
    "\n",
    "        elif type(newThing) == dict:\n",
    "            # Woo this is simple!\n",
    "            _mergeDict(self, newThing, docs)\n",
    "\n",
    "        elif type(newThing) == str:\n",
    "            # I'm assuming I'm to add this string to the term doc Matrix\n",
    "            strList = newThing.split(self.parseOn)\n",
    "            newD = {}\n",
    "            for i in range(len(strList)):\n",
    "                if strList[i].strip() in newD:\n",
    "                    newD[strList[i].strip()] += 1\n",
    "                else:\n",
    "                    newD[strList[i].strip()] = 1\n",
    "            _mergeDict(self, newD, docs)\n",
    "        return\n",
    "\n",
    "    def weight_idf(self):\n",
    "        # Now we're weighting it, booyea\n",
    "        # The weighting applied here is idf, and assumes td weighting was applied earlier\n",
    "        #   idf: inverse document frequency: log(N/ni)\n",
    "        #     if every doc has word ni, the it zeros out the row\n",
    "        #     Rather than math it, check for it first\n",
    "        self.idfweight = True\n",
    "        for key in self.mD:\n",
    "            # Saving raw state allows matrix to grow w/o redoing everything\n",
    "            # only done if \n",
    "            if self.saveVerbose == True:\n",
    "                self.termraw.append(key)\n",
    "            # This chunk is to check for the idf weight condition:\n",
    "            #   if every doc has the term, then it's not worth 'mathing'\n",
    "            #   and instead can be eliminated\n",
    "            idf = False\n",
    "            if len(self.mD[key]) < self.docCount:\n",
    "                idf = True\n",
    "                for i in range(len(self.mD[key]), self.docCount):\n",
    "                    self.mD[key].append(0.)\n",
    "            # Saving raw matrix\n",
    "            if self.saveVerbose == True:\n",
    "                self.tdmraw.append(self.mD[key])\n",
    "            # Scan row for a zero\n",
    "            if idf == False:\n",
    "                for i in range(len(self.mD[key])):\n",
    "                    if self.mD[key][i] == 0:\n",
    "                        idf = True\n",
    "                        break\n",
    "            # CURRENTLY AN ERROR DUE TO TD WEIGHTING EARLIER: FIXED\n",
    "            if (len(filter(None, self.mD[key])) >= self.wcThreshold) and idf == True:\n",
    "                self.terms.append(key)\n",
    "                self.tdm.append(self.mD[key])\n",
    "        \n",
    "        # Ok now it's actually time to start weighting\n",
    "        self.tdm = numpy.array(self.tdm)\n",
    "        #print len(self.tdm)\n",
    "        for i in range(len(self.tdm)):\n",
    "            #print self.terms[i]\n",
    "            ni = float(numpy.count_nonzero(self.tdm[i]))\n",
    "            if ni == 0:\n",
    "                raise ValueError(\"ARG HOW ARE THERE NO NON ZERO ELIMENTS\")\n",
    "            #print ni, self.docCount\n",
    "            idfValue = math.log(self.docCount/ni)\n",
    "            self.tdm[i] = self.tdm[i] * idfValue\n",
    "            self.idfs.append(idfValue)\n",
    "            \n",
    "        return\n",
    "\n",
    "    def svd(self):\n",
    "        return\n",
    "\n",
    "    def spectralEmbed(self, k, n_neighbors=10):\n",
    "        from sklearn import manifold\n",
    "        se = manifold.SpectralEmbedding(n_components=k, n_neighbors=n_neighbors)\n",
    "        Yse = se.fit_transform(self.tdm)\n",
    "        print len(Yse)\n",
    "        return Yse\n",
    "\n",
    "    def nmf(self, k):\n",
    "        \n",
    "        nmf = ProjectedGradientNMF(n_components=k, max_iter=200)\n",
    "        P = nmf.fit_transform(self.tdm)\n",
    "        Q = nmf.components_.T\n",
    "        self.P = P\n",
    "        self.Q = Q\n",
    "        self.er = nmf.reconstruction_err_\n",
    "        print \"\\tNMF Error: \", self.er\n",
    "        return P, Q"
   ]
  },
  {
   "cell_type": "code",
   "execution_count": 70,
   "metadata": {
    "collapsed": false
   },
   "outputs": [
    {
     "name": "stdout",
     "output_type": "stream",
     "text": [
      "\t0 \tTheCompleteWorksofWilliamShakespeare\n",
      "\t1 \tAStudyInScarlet\n",
      "\t2 \tEthanFrome\n",
      "\t3 \tDemocracyandEducation\n",
      "\t4 \tBeyondGoodAndEvil\n",
      "\t5 \tSiddhartha\n",
      "\t6 \tOliverTwist\n",
      "\t7 \tDonQuixote\n",
      "\t8 \tDrJekyllandMrHyde\n",
      "\t9 \tMetamorphosis\n",
      "\t10 \tWarAndPeace\n",
      "\t11 \tThroughTheLookingGlass\n",
      "\t12 \tJosefineMutzenbacher\n",
      "\t13 \tTheHoundoftheBaskervilles\n",
      "\t14 \tTragicalHistoryofDrFaustus\n",
      "\t15 \tCrimeandPunishment\n",
      "\t16 \ttheJunbleBook\n",
      "\t17 \tAChristmasCarol\n",
      "\t18 \tOnLiberty\n",
      "\t19 \tAModestPurposal\n",
      "\t20 \tHeartofDarkness\n",
      "\t21 \tDonJuan\n",
      "\t22 \tPeterPan\n",
      "\t23 \tHowtoAnalyzePeopleonSight\n",
      "\t24 \tPersuasion\n"
     ]
    }
   ],
   "source": [
    "tdm = termDocMatrix()\n",
    "for i in range(25):#len(fls)):\n",
    "    flname = fls[i]\n",
    "    fl = open(flname, 'r')\n",
    "    lines = fl.read()\n",
    "    fl.close()\n",
    "    flname = flname.split('/')[-1][:-4]\n",
    "    print '\\t', i, '\\t', flname\n",
    "    line = re.sub('[\\t\\n\\r]', ' ', lines)\n",
    "    line = line.lower()\n",
    "    line = line.split(' ')\n",
    "    tdm.add(line, flname)"
   ]
  },
  {
   "cell_type": "code",
   "execution_count": 71,
   "metadata": {
    "collapsed": true
   },
   "outputs": [],
   "source": [
    "# Worth a shot\n",
    "tdm.weight_idf()\n"
   ]
  },
  {
   "cell_type": "code",
   "execution_count": 73,
   "metadata": {
    "collapsed": false
   },
   "outputs": [
    {
     "name": "stderr",
     "output_type": "stream",
     "text": [
      "/home/keith/anaconda2/lib/python2.7/site-packages/sklearn/utils/__init__.py:75: DeprecationWarning: Class ProjectedGradientNMF is deprecated; It will be removed in release 0.19. Use NMF instead.'pg' solver is still available until release 0.19.\n",
      "  warnings.warn(msg, category=DeprecationWarning)\n",
      "/home/keith/anaconda2/lib/python2.7/site-packages/sklearn/decomposition/nmf.py:775: DeprecationWarning: 'pg' solver will be removed in release 0.19. Use 'cd' solver instead.\n",
      "  \" Use 'cd' solver instead.\", DeprecationWarning)\n"
     ]
    },
    {
     "name": "stdout",
     "output_type": "stream",
     "text": [
      "\tNMF Error:  0.0360107696639\n"
     ]
    },
    {
     "data": {
      "text/plain": [
       "(array([[  3.71110784e-10,   1.40526282e-03],\n",
       "        [  2.17111518e-08,   3.11331559e-04],\n",
       "        [  3.67214579e-08,   1.68409481e-05],\n",
       "        ..., \n",
       "        [  2.65324757e-09,   1.19103710e-06],\n",
       "        [  1.34616985e-08,   1.95471180e-06],\n",
       "        [  3.61446974e-09,   1.90795851e-06]]),\n",
       " array([[  2.58290371e-05,   2.43759894e-03],\n",
       "        [  1.13121946e-05,   2.15447858e-03],\n",
       "        [  1.96581378e-06,   1.76409662e-03],\n",
       "        [  3.42357578e-06,   6.22761617e-04],\n",
       "        [  4.19220374e-05,   6.57531294e-04],\n",
       "        [  2.86548301e-06,   1.34219600e-03],\n",
       "        [  1.14586282e-05,   8.47657940e-03],\n",
       "        [  1.29015025e-05,   3.99679618e-03],\n",
       "        [  1.27758914e-05,   1.36318154e-03],\n",
       "        [  1.55727801e-05,   1.45678936e-03],\n",
       "        [  8.48072784e-05,   2.72890298e-03],\n",
       "        [  0.00000000e+00,   1.28769065e-01],\n",
       "        [  3.32202001e-01,   0.00000000e+00],\n",
       "        [  5.07270544e-06,   1.61167678e-03],\n",
       "        [  2.37704165e-05,   2.76384061e-03],\n",
       "        [  3.96864818e-05,   2.08843666e-03],\n",
       "        [  2.27822149e-05,   1.99429038e-03],\n",
       "        [  1.10861459e-05,   1.70525444e-03],\n",
       "        [  4.88296159e-05,   5.68119181e-04],\n",
       "        [  2.06274309e-06,   3.60365032e-04],\n",
       "        [  1.12910176e-05,   3.34582792e-03],\n",
       "        [  2.00945739e-05,   1.14505618e-03],\n",
       "        [  1.43238323e-05,   1.91215416e-03],\n",
       "        [  6.65660995e-06,   2.39720452e-03],\n",
       "        [  1.88673524e-06,   2.51494521e-03]]))"
      ]
     },
     "execution_count": 73,
     "metadata": {},
     "output_type": "execute_result"
    }
   ],
   "source": [
    "tdm.nmf(2)"
   ]
  },
  {
   "cell_type": "code",
   "execution_count": 67,
   "metadata": {
    "collapsed": false,
    "scrolled": true
   },
   "outputs": [
    {
     "name": "stdout",
     "output_type": "stream",
     "text": [
      "25 55824 25\n"
     ]
    }
   ],
   "source": [
    "print len(tdm.Q), len(tdm.P), len(tdm.docs)"
   ]
  },
  {
   "cell_type": "code",
   "execution_count": 74,
   "metadata": {
    "collapsed": false
   },
   "outputs": [
    {
     "name": "stdout",
     "output_type": "stream",
     "text": [
      "25 2\n"
     ]
    },
    {
     "data": {
      "image/png": "[encoded data removed]",
      "text/plain": [
       "<matplotlib.figure.Figure at 0xa84c58cc>"
      ]
     },
     "metadata": {},
     "output_type": "display_data"
    }
   ],
   "source": [
    "\n",
    "\n",
    "from matplotlib.pyplot import figure, show\n",
    "import numpy as npy\n",
    "from numpy.random import rand\n",
    "\n",
    "temp = zip(*tdm.Q)\n",
    "x = temp[0]\n",
    "y = temp[1]\n",
    "print len(x), len(temp)\n",
    "\n",
    "if 1: # picking on a scatter plot (matplotlib.collections.RegularPolyCollection)\n",
    "\n",
    "    \n",
    "    def onpick3(event):\n",
    "        ind = event.ind\n",
    "        print ind, type(ind)\n",
    "        if type(ind) == numpy.ndarray:\n",
    "            print \"YOU\"\n",
    "            ind = ind[0]\n",
    "        print 'onpick3 scatter:', tdm.docs[ind]#, npy.take(x, ind), npy.take(y, ind)\n",
    "\n",
    "    fig = figure()\n",
    "    ax1 = fig.add_subplot(111)\n",
    "    col = ax1.scatter(x, y, picker=True)\n",
    "    #fig.savefig('pscoll.eps')\n",
    "    fig.canvas.mpl_connect('pick_event', onpick3)\n",
    "\n"
   ]
  },
  {
   "cell_type": "code",
   "execution_count": 76,
   "metadata": {
    "collapsed": false,
    "scrolled": true
   },
   "outputs": [
    {
     "ename": "KeyboardInterrupt",
     "evalue": "",
     "output_type": "error",
     "traceback": [
      "\u001b[1;31m---------------------------------------------------------------------------\u001b[0m",
      "\u001b[1;31mKeyboardInterrupt\u001b[0m                         Traceback (most recent call last)",
      "\u001b[1;32m<ipython-input-76-fe689cde9cea>\u001b[0m in \u001b[0;36m<module>\u001b[1;34m()\u001b[0m\n\u001b[0;32m      6\u001b[0m \u001b[1;31m#soo.. I'll do it hsere too\u001b[0m\u001b[1;33m\u001b[0m\u001b[1;33m\u001b[0m\u001b[0m\n\u001b[0;32m      7\u001b[0m \u001b[1;33m\u001b[0m\u001b[0m\n\u001b[1;32m----> 8\u001b[1;33m \u001b[0mYse\u001b[0m \u001b[1;33m=\u001b[0m \u001b[0mtdm\u001b[0m\u001b[1;33m.\u001b[0m\u001b[0mspectralEmbed\u001b[0m\u001b[1;33m(\u001b[0m\u001b[1;36m2\u001b[0m\u001b[1;33m)\u001b[0m\u001b[1;33m\u001b[0m\u001b[0m\n\u001b[0m",
      "\u001b[1;32m<ipython-input-63-3a6c6e38fb51>\u001b[0m in \u001b[0;36mspectralEmbed\u001b[1;34m(self, k, n_neighbors)\u001b[0m\n\u001b[0;32m    156\u001b[0m         \u001b[1;32mfrom\u001b[0m \u001b[0msklearn\u001b[0m \u001b[1;32mimport\u001b[0m \u001b[0mmanifold\u001b[0m\u001b[1;33m\u001b[0m\u001b[0m\n\u001b[0;32m    157\u001b[0m         \u001b[0mse\u001b[0m \u001b[1;33m=\u001b[0m \u001b[0mmanifold\u001b[0m\u001b[1;33m.\u001b[0m\u001b[0mSpectralEmbedding\u001b[0m\u001b[1;33m(\u001b[0m\u001b[0mn_components\u001b[0m\u001b[1;33m=\u001b[0m\u001b[0mk\u001b[0m\u001b[1;33m,\u001b[0m \u001b[0mn_neighbors\u001b[0m\u001b[1;33m=\u001b[0m\u001b[0mn_neighbors\u001b[0m\u001b[1;33m)\u001b[0m\u001b[1;33m\u001b[0m\u001b[0m\n\u001b[1;32m--> 158\u001b[1;33m         \u001b[0mYse\u001b[0m \u001b[1;33m=\u001b[0m \u001b[0mse\u001b[0m\u001b[1;33m.\u001b[0m\u001b[0mfit_transform\u001b[0m\u001b[1;33m(\u001b[0m\u001b[0mself\u001b[0m\u001b[1;33m.\u001b[0m\u001b[0mtdm\u001b[0m\u001b[1;33m)\u001b[0m\u001b[1;33m\u001b[0m\u001b[0m\n\u001b[0m\u001b[0;32m    159\u001b[0m         \u001b[1;32mprint\u001b[0m \u001b[0mlen\u001b[0m\u001b[1;33m(\u001b[0m\u001b[0mYse\u001b[0m\u001b[1;33m)\u001b[0m\u001b[1;33m\u001b[0m\u001b[0m\n\u001b[0;32m    160\u001b[0m         \u001b[1;32mreturn\u001b[0m \u001b[0mYse\u001b[0m\u001b[1;33m\u001b[0m\u001b[0m\n",
      "\u001b[1;32m/home/keith/anaconda2/lib/python2.7/site-packages/sklearn/manifold/spectral_embedding_.pyc\u001b[0m in \u001b[0;36mfit_transform\u001b[1;34m(self, X, y)\u001b[0m\n\u001b[0;32m    491\u001b[0m         \u001b[0mX_new\u001b[0m\u001b[1;33m:\u001b[0m \u001b[0marray\u001b[0m\u001b[1;33m-\u001b[0m\u001b[0mlike\u001b[0m\u001b[1;33m,\u001b[0m \u001b[0mshape\u001b[0m \u001b[1;33m(\u001b[0m\u001b[0mn_samples\u001b[0m\u001b[1;33m,\u001b[0m \u001b[0mn_components\u001b[0m\u001b[1;33m)\u001b[0m\u001b[1;33m\u001b[0m\u001b[0m\n\u001b[0;32m    492\u001b[0m         \"\"\"\n\u001b[1;32m--> 493\u001b[1;33m         \u001b[0mself\u001b[0m\u001b[1;33m.\u001b[0m\u001b[0mfit\u001b[0m\u001b[1;33m(\u001b[0m\u001b[0mX\u001b[0m\u001b[1;33m)\u001b[0m\u001b[1;33m\u001b[0m\u001b[0m\n\u001b[0m\u001b[0;32m    494\u001b[0m         \u001b[1;32mreturn\u001b[0m \u001b[0mself\u001b[0m\u001b[1;33m.\u001b[0m\u001b[0membedding_\u001b[0m\u001b[1;33m\u001b[0m\u001b[0m\n",
      "\u001b[1;32m/home/keith/anaconda2/lib/python2.7/site-packages/sklearn/manifold/spectral_embedding_.pyc\u001b[0m in \u001b[0;36mfit\u001b[1;34m(self, X, y)\u001b[0m\n\u001b[0;32m    453\u001b[0m         \"\"\"\n\u001b[0;32m    454\u001b[0m \u001b[1;33m\u001b[0m\u001b[0m\n\u001b[1;32m--> 455\u001b[1;33m         \u001b[0mX\u001b[0m \u001b[1;33m=\u001b[0m \u001b[0mcheck_array\u001b[0m\u001b[1;33m(\u001b[0m\u001b[0mX\u001b[0m\u001b[1;33m,\u001b[0m \u001b[0mensure_min_samples\u001b[0m\u001b[1;33m=\u001b[0m\u001b[1;36m2\u001b[0m\u001b[1;33m,\u001b[0m \u001b[0mestimator\u001b[0m\u001b[1;33m=\u001b[0m\u001b[0mself\u001b[0m\u001b[1;33m)\u001b[0m\u001b[1;33m\u001b[0m\u001b[0m\n\u001b[0m\u001b[0;32m    456\u001b[0m \u001b[1;33m\u001b[0m\u001b[0m\n\u001b[0;32m    457\u001b[0m         \u001b[0mrandom_state\u001b[0m \u001b[1;33m=\u001b[0m \u001b[0mcheck_random_state\u001b[0m\u001b[1;33m(\u001b[0m\u001b[0mself\u001b[0m\u001b[1;33m.\u001b[0m\u001b[0mrandom_state\u001b[0m\u001b[1;33m)\u001b[0m\u001b[1;33m\u001b[0m\u001b[0m\n",
      "\u001b[1;32m/home/keith/anaconda2/lib/python2.7/site-packages/sklearn/utils/validation.pyc\u001b[0m in \u001b[0;36mcheck_array\u001b[1;34m(array, accept_sparse, dtype, order, copy, force_all_finite, ensure_2d, allow_nd, ensure_min_samples, ensure_min_features, warn_on_dtype, estimator)\u001b[0m\n\u001b[0;32m    396\u001b[0m                              % (array.ndim, estimator_name))\n\u001b[0;32m    397\u001b[0m         \u001b[1;32mif\u001b[0m \u001b[0mforce_all_finite\u001b[0m\u001b[1;33m:\u001b[0m\u001b[1;33m\u001b[0m\u001b[0m\n\u001b[1;32m--> 398\u001b[1;33m             \u001b[0m_assert_all_finite\u001b[0m\u001b[1;33m(\u001b[0m\u001b[0marray\u001b[0m\u001b[1;33m)\u001b[0m\u001b[1;33m\u001b[0m\u001b[0m\n\u001b[0m\u001b[0;32m    399\u001b[0m \u001b[1;33m\u001b[0m\u001b[0m\n\u001b[0;32m    400\u001b[0m     \u001b[0mshape_repr\u001b[0m \u001b[1;33m=\u001b[0m \u001b[0m_shape_repr\u001b[0m\u001b[1;33m(\u001b[0m\u001b[0marray\u001b[0m\u001b[1;33m.\u001b[0m\u001b[0mshape\u001b[0m\u001b[1;33m)\u001b[0m\u001b[1;33m\u001b[0m\u001b[0m\n",
      "\u001b[1;32m/home/keith/anaconda2/lib/python2.7/site-packages/sklearn/utils/validation.pyc\u001b[0m in \u001b[0;36m_assert_all_finite\u001b[1;34m(X)\u001b[0m\n\u001b[0;32m     49\u001b[0m     \u001b[1;31m# everything is finite; fall back to O(n) space np.isfinite to prevent\u001b[0m\u001b[1;33m\u001b[0m\u001b[1;33m\u001b[0m\u001b[0m\n\u001b[0;32m     50\u001b[0m     \u001b[1;31m# false positives from overflow in sum method.\u001b[0m\u001b[1;33m\u001b[0m\u001b[1;33m\u001b[0m\u001b[0m\n\u001b[1;32m---> 51\u001b[1;33m     if (X.dtype.char in np.typecodes['AllFloat'] and not np.isfinite(X.sum())\n\u001b[0m\u001b[0;32m     52\u001b[0m             and not np.isfinite(X).all()):\n\u001b[0;32m     53\u001b[0m         raise ValueError(\"Input contains NaN, infinity\"\n",
      "\u001b[1;32m/home/keith/anaconda2/lib/python2.7/site-packages/numpy/core/_methods.pyc\u001b[0m in \u001b[0;36m_sum\u001b[1;34m(a, axis, dtype, out, keepdims)\u001b[0m\n\u001b[0;32m     30\u001b[0m \u001b[1;33m\u001b[0m\u001b[0m\n\u001b[0;32m     31\u001b[0m \u001b[1;32mdef\u001b[0m \u001b[0m_sum\u001b[0m\u001b[1;33m(\u001b[0m\u001b[0ma\u001b[0m\u001b[1;33m,\u001b[0m \u001b[0maxis\u001b[0m\u001b[1;33m=\u001b[0m\u001b[0mNone\u001b[0m\u001b[1;33m,\u001b[0m \u001b[0mdtype\u001b[0m\u001b[1;33m=\u001b[0m\u001b[0mNone\u001b[0m\u001b[1;33m,\u001b[0m \u001b[0mout\u001b[0m\u001b[1;33m=\u001b[0m\u001b[0mNone\u001b[0m\u001b[1;33m,\u001b[0m \u001b[0mkeepdims\u001b[0m\u001b[1;33m=\u001b[0m\u001b[0mFalse\u001b[0m\u001b[1;33m)\u001b[0m\u001b[1;33m:\u001b[0m\u001b[1;33m\u001b[0m\u001b[0m\n\u001b[1;32m---> 32\u001b[1;33m     \u001b[1;32mreturn\u001b[0m \u001b[0mumr_sum\u001b[0m\u001b[1;33m(\u001b[0m\u001b[0ma\u001b[0m\u001b[1;33m,\u001b[0m \u001b[0maxis\u001b[0m\u001b[1;33m,\u001b[0m \u001b[0mdtype\u001b[0m\u001b[1;33m,\u001b[0m \u001b[0mout\u001b[0m\u001b[1;33m,\u001b[0m \u001b[0mkeepdims\u001b[0m\u001b[1;33m)\u001b[0m\u001b[1;33m\u001b[0m\u001b[0m\n\u001b[0m\u001b[0;32m     33\u001b[0m \u001b[1;33m\u001b[0m\u001b[0m\n\u001b[0;32m     34\u001b[0m \u001b[1;32mdef\u001b[0m \u001b[0m_prod\u001b[0m\u001b[1;33m(\u001b[0m\u001b[0ma\u001b[0m\u001b[1;33m,\u001b[0m \u001b[0maxis\u001b[0m\u001b[1;33m=\u001b[0m\u001b[0mNone\u001b[0m\u001b[1;33m,\u001b[0m \u001b[0mdtype\u001b[0m\u001b[1;33m=\u001b[0m\u001b[0mNone\u001b[0m\u001b[1;33m,\u001b[0m \u001b[0mout\u001b[0m\u001b[1;33m=\u001b[0m\u001b[0mNone\u001b[0m\u001b[1;33m,\u001b[0m \u001b[0mkeepdims\u001b[0m\u001b[1;33m=\u001b[0m\u001b[0mFalse\u001b[0m\u001b[1;33m)\u001b[0m\u001b[1;33m:\u001b[0m\u001b[1;33m\u001b[0m\u001b[0m\n",
      "\u001b[1;31mKeyboardInterrupt\u001b[0m: "
     ]
    }
   ],
   "source": [
    "# Aaaand now I can't undo inline plotting\n",
    "# I stand by matplotlib is a pain\n",
    "# In other news I'm waiting on spectral embedding to finish \n",
    "# in the command line because I guess sleep isn't needed\n",
    "\n",
    "#soo.. I'll do it hsere too\n",
    "\n",
    "Yse = tdm.spectralEmbed(2)"
   ]
  },
  {
   "cell_type": "code",
   "execution_count": null,
   "metadata": {
    "collapsed": true
   },
   "outputs": [],
   "source": [
    "\n",
    "temp = zip(*Yse)\n",
    "x = temp[0]\n",
    "y = temp[1]\n",
    "print len(x), len(temp)\n",
    "\n",
    "if 1: # picking on a scatter plot (matplotlib.collections.RegularPolyCollection)\n",
    "\n",
    "    \n",
    "    def onpick3(event):\n",
    "        ind = event.ind\n",
    "        print ind, type(ind)\n",
    "        if type(ind) == numpy.ndarray:\n",
    "            print \"YOU\"\n",
    "            ind = ind[0]\n",
    "        print 'onpick3 scatter:', tdm.docs[ind]#, npy.take(x, ind), npy.take(y, ind)\n",
    "\n",
    "    fig = figure()\n",
    "    ax1 = fig.add_subplot(111)\n",
    "    col = ax1.scatter(x, y, picker=True)\n",
    "    #fig.savefig('pscoll.eps')\n",
    "    fig.canvas.mpl_connect('pick_event', onpick3)\n"
   ]
  },
  {
   "cell_type": "markdown",
   "metadata": {},
   "source": [
    "Dear lord this is why people like linear\n",
    "Get your act together SE, you're pretty much my \n",
    "favorite NLDR method and you're being a total pain"
   ]
  }
 ],
 "metadata": {
  "anaconda-cloud": {},
  "kernelspec": {
   "display_name": "Python [Root]",
   "language": "python",
   "name": "Python [Root]"
  },
  "language_info": {
   "codemirror_mode": {
    "name": "ipython",
    "version": 2
   },
   "file_extension": ".py",
   "mimetype": "text/x-python",
   "name": "python",
   "nbconvert_exporter": "python",
   "pygments_lexer": "ipython2",
   "version": "2.7.12"
  }
 },
 "nbformat": 4,
 "nbformat_minor": 0
}
