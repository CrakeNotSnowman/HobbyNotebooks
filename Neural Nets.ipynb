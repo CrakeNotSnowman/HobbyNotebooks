{
 "cells": [
  {
   "cell_type": "markdown",
   "metadata": {},
   "source": [
    "Intro to Neural Nets\n",
    "===\n",
    "[Tutorial used here](http://karpathy.github.io/neuralnets/)\n",
    "\n",
    "[Latex Characters](http://tug.ctan.org/info/symbols/comprehensive/symbols-a4.pdf)\n"
   ]
  },
  {
   "cell_type": "code",
   "execution_count": 1,
   "metadata": {
    "collapsed": false
   },
   "outputs": [],
   "source": [
    "# Basic Gate\n",
    "#   Single One-Gate Circuit\n",
    "\n",
    "def forwardMultiplyGate(x,y):\n",
    "    return x*y\n"
   ]
  },
  {
   "cell_type": "code",
   "execution_count": 2,
   "metadata": {
    "collapsed": false
   },
   "outputs": [
    {
     "data": {
      "text/plain": [
       "-6"
      ]
     },
     "execution_count": 2,
     "metadata": {},
     "output_type": "execute_result"
    }
   ],
   "source": [
    "forwardMultiplyGate(-2,3)"
   ]
  },
  {
   "cell_type": "markdown",
   "metadata": {},
   "source": [
    "The above function, forwardMultiplyGate(), is equalivant to\n",
    "\n",
    "\n",
    "$$f(x,y) = xy$$"
   ]
  },
  {
   "cell_type": "markdown",
   "metadata": {},
   "source": [
    "Random Local Search\n",
    "----\n"
   ]
  },
  {
   "cell_type": "code",
   "execution_count": 3,
   "metadata": {
    "collapsed": false
   },
   "outputs": [
    {
     "name": "stdout",
     "output_type": "stream",
     "text": [
      "0.000751972198486 -5.22382263175 -1.77610266617 2.94117155007\n"
     ]
    }
   ],
   "source": [
    "import random\n",
    "import time\n",
    "\n",
    "x = -2.\n",
    "y = 3.\n",
    "\n",
    "tweak_amount = 0.01\n",
    "best_out = forwardMultiplyGate(x,y)\n",
    "best_x = x\n",
    "best_y = y\n",
    "start_time = time.time()\n",
    "\n",
    "for k in range(100):\n",
    "    x_try = x + tweak_amount * (random.random()*2. -1.)\n",
    "    y_try = y + tweak_amount * (random.random()*2. -1.)\n",
    "    out = forwardMultiplyGate(x_try, y_try)\n",
    "    if out > best_out:\n",
    "        best_out = out\n",
    "        best_x = x_try\n",
    "        best_y = y_try\n",
    "        # If you want to itterate on x and y,\n",
    "        x = x_try\n",
    "        y = y_try\n",
    "    \n",
    "take_time = time.time() - start_time\n",
    "\n",
    "print take_time, best_out, best_x, best_y        "
   ]
  },
  {
   "cell_type": "markdown",
   "metadata": {},
   "source": [
    "Using Numerical Gradient\n",
    "----\n",
    "Use the derivative of the function to slowly adjust the inputs for improved outputs\n"
   ]
  },
  {
   "cell_type": "code",
   "execution_count": 4,
   "metadata": {
    "collapsed": false
   },
   "outputs": [
    {
     "name": "stdout",
     "output_type": "stream",
     "text": [
      "-5.8706 0.00103306770325\n"
     ]
    }
   ],
   "source": [
    "start_time = time.time()\n",
    "x = -2.\n",
    "y = 3.\n",
    "out = forwardMultiplyGate(x, y)\n",
    "h = 0.01\n",
    "\n",
    "xph = x + h\n",
    "outxh = forwardMultiplyGate(xph, y)\n",
    "dx = (outxh-out)/h\n",
    "\n",
    "yph = y + h\n",
    "outyh = forwardMultiplyGate(x, yph)\n",
    "dy = (outyh - out)/h\n",
    "\n",
    "#print dx, dy\n",
    "\n",
    "step_size = 0.01\n",
    "out = forwardMultiplyGate(x, y)\n",
    "x = x + step_size*dx\n",
    "y = y + step_size*dy\n",
    "out_new = forwardMultiplyGate(x,y)\n",
    "take_time = time.time()-start_time\n",
    "print out_new, take_time"
   ]
  },
  {
   "cell_type": "code",
   "execution_count": 5,
   "metadata": {
    "collapsed": false
   },
   "outputs": [
    {
     "name": "stdout",
     "output_type": "stream",
     "text": [
      "-5.8706 0.000456094741821\n"
     ]
    }
   ],
   "source": [
    "# Grad x and y are solved for by taking the df/dx, and df/dy\n",
    "#  respectively, which give f(x,y)=x*y, grad(x) = y etc.\n",
    "x = -2.\n",
    "y = 3.\n",
    "start_time = time.time()\n",
    "out = forwardMultiplyGate(x, y)\n",
    "gradx = y\n",
    "grady = x\n",
    "\n",
    "step_size = .01\n",
    "x += step_size*gradx\n",
    "y += step_size*grady\n",
    "out_new = forwardMultiplyGate(x,y)\n",
    "take_time = time.time()-start_time\n",
    "print out_new, take_time"
   ]
  },
  {
   "cell_type": "code",
   "execution_count": 6,
   "metadata": {
    "collapsed": true
   },
   "outputs": [],
   "source": [
    "def forwardAddGate(x,y):\n",
    "    return x+y"
   ]
  },
  {
   "cell_type": "code",
   "execution_count": 7,
   "metadata": {
    "collapsed": false
   },
   "outputs": [
    {
     "name": "stdout",
     "output_type": "stream",
     "text": [
      "-12.0\n"
     ]
    }
   ],
   "source": [
    "def simpleCircuit(x,y,z):\n",
    "    q = forwardAddGate(x,y)\n",
    "    return forwardMultiplyGate(q,z)\n",
    "\n",
    "x = -2.\n",
    "y = 5.\n",
    "z = -4.\n",
    "f = simpleCircuit(x,y,z)\n",
    "\n",
    "print f"
   ]
  },
  {
   "cell_type": "markdown",
   "metadata": {},
   "source": [
    "Backpropagation\n",
    "---"
   ]
  },
  {
   "cell_type": "code",
   "execution_count": 8,
   "metadata": {
    "collapsed": true
   },
   "outputs": [],
   "source": [
    "x = -2.\n",
    "y = 5.\n",
    "z = -4.\n",
    "\n",
    "q = forwardAddGate(x,y)\n",
    "f = forwardMultiplyGate(q, z)\n",
    "\n",
    "# We know the below by hand computing the gradient of the\n",
    "#   functions q and f\n",
    "dfdq = z\n",
    "dfdz = q\n",
    "dqdx = 1.0\n",
    "dqdy = 1.0\n",
    "\n",
    "# Solved for using the chain rule\n",
    "dfdx = dqdx * dfdq\n",
    "dfdy = dqdy * dfdq"
   ]
  },
  {
   "cell_type": "code",
   "execution_count": 9,
   "metadata": {
    "collapsed": false
   },
   "outputs": [
    {
     "name": "stdout",
     "output_type": "stream",
     "text": [
      "-11.5924\n"
     ]
    }
   ],
   "source": [
    "# Remember Gradients are vectors\n",
    "gradf = [dfdx, dfdy, dfdz]\n",
    "\n",
    "# Programming is really nice at 2 am while listening to the\n",
    "# hamilton soundtrack\n",
    "\n",
    "# Adjust the inputs\n",
    "step_size = 0.01\n",
    "x = x + step_size * dfdx\n",
    "y = y + step_size * dfdy\n",
    "z = z + step_size * dfdz\n",
    "\n",
    "# Run simple circuit\n",
    "q = forwardAddGate(x, y)\n",
    "f = forwardMultiplyGate(q, z)\n",
    "\n",
    "print f"
   ]
  },
  {
   "cell_type": "code",
   "execution_count": 48,
   "metadata": {
    "collapsed": true
   },
   "outputs": [],
   "source": [
    "# To the tune of Burn from the Hamilton Soundtrack\n",
    "\n",
    "# when you were mine, the code seemed to run....\n",
    "# to run...\n",
    "# [...]\n",
    "# you and your vars, obsesed with your latency\n",
    "# your runtime erorrs boarder on senseless\n",
    "# and you are parinoid in every paragraph how they credit you"
   ]
  },
  {
   "cell_type": "code",
   "execution_count": 10,
   "metadata": {
    "collapsed": true
   },
   "outputs": [],
   "source": [
    "# Block quote:\n",
    "#Similar intuitions apply to, for example, a max(x,y) gate. \n",
    "#  Since the gradient of max(x,y) with respect to its input is +1 \n",
    "#  for whichever one of x, y is larger and 0 for the other\n",
    "\n"
   ]
  },
  {
   "cell_type": "markdown",
   "metadata": {},
   "source": [
    "Simple Neuron\n",
    "===\n",
    "The neuron will solve for the basic function:\n",
    "$$f(x,y,a,b,c) = \\sigma (ax + by + c)$$\n",
    "Such that $\\sigma$ is the sigmoid function:\n",
    "$$\\sigma (x) = \\frac{1}{1+e^{-x}}$$\n",
    "$x$ and $y$ are inputs, $a$ and $b$ are weights, and $c$ is a bias\n",
    "\n",
    "The Gradient of $\\sigma$ is\n",
    "$$\\nabla \\sigma (x) = \\frac{\\partial \\sigma (x)}{\\partial x} = \\sigma (x)(1 - \\sigma (x))$$"
   ]
  },
  {
   "cell_type": "code",
   "execution_count": 14,
   "metadata": {
    "collapsed": false
   },
   "outputs": [],
   "source": [
    "class Unit(object):\n",
    "    def init(self, value, grad):\n",
    "        self.value = value\n",
    "        self.grad = grad\n",
    "        \n",
    "class multiplyGate(object):\n",
    "    def forward(self, u0, u1):\n",
    "        self.u0 = u0\n",
    "        self.u1 = u1\n",
    "        self.uTop = Unit(self.u0.value*self.u1,value, 0.0)\n",
    "        return self.utop\n",
    "    def backward(self):\n",
    "        self.u0.grad += self.u1.value*self.uTop.grad\n",
    "        self.u1.grad += self.u0.value*self.uTop.grad\n",
    "        \n",
    "class addGate(object):\n",
    "    def forward(self, u0, u1):\n",
    "        self.u0 = u0\n",
    "        self.u1 = u1\n",
    "        self.uTop = Unit(self.u0.value + self.u1,value, 0.0)\n",
    "        return self.utop\n",
    "    def backward(self):\n",
    "        self.u0.grad += 1.0 *self.uTop.grad\n",
    "        self.u1.grad += 1.0 *self.uTop.grad\n",
    "        \n",
    "class sigmoidGate(object):\n",
    "    def sig(self, x):\n",
    "        return 1. / (float(1.0 + ))\n",
    "    def forward(self, u0):\n",
    "        self.u0 = u0\n",
    "        self.uTop = Unit(self.sig)"
   ]
  },
  {
   "cell_type": "code",
   "execution_count": null,
   "metadata": {
    "collapsed": true
   },
   "outputs": [],
   "source": []
  }
 ],
 "metadata": {
  "anaconda-cloud": {},
  "kernelspec": {
   "display_name": "Python [Root]",
   "language": "python",
   "name": "Python [Root]"
  },
  "language_info": {
   "codemirror_mode": {
    "name": "ipython",
    "version": 2
   },
   "file_extension": ".py",
   "mimetype": "text/x-python",
   "name": "python",
   "nbconvert_exporter": "python",
   "pygments_lexer": "ipython2",
   "version": "2.7.12"
  }
 },
 "nbformat": 4,
 "nbformat_minor": 0
}
