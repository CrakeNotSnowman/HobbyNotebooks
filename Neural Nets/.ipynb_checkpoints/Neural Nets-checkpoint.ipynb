{
 "cells": [
  {
   "cell_type": "markdown",
   "metadata": {},
   "source": [
    "Intro to Neural Nets\n",
    "===\n",
    "[Tutorial used here](http://karpathy.github.io/neuralnets/)\n",
    "\n",
    "[Latex Characters](http://tug.ctan.org/info/symbols/comprehensive/symbols-a4.pdf)\n"
   ]
  },
  {
   "cell_type": "code",
   "execution_count": 67,
   "metadata": {
    "collapsed": false
   },
   "outputs": [],
   "source": [
    "# Basic Gate\n",
    "#   Single One-Gate Circuit\n",
    "\n",
    "def forwardMultiplyGate(x,y):\n",
    "    return x*y\n"
   ]
  },
  {
   "cell_type": "code",
   "execution_count": 68,
   "metadata": {
    "collapsed": false
   },
   "outputs": [
    {
     "data": {
      "text/plain": [
       "-6"
      ]
     },
     "execution_count": 68,
     "metadata": {},
     "output_type": "execute_result"
    }
   ],
   "source": [
    "forwardMultiplyGate(-2,3)"
   ]
  },
  {
   "cell_type": "markdown",
   "metadata": {},
   "source": [
    "The above function, forwardMultiplyGate(), is equalivant to\n",
    "\n",
    "\n",
    "$$f(x,y) = xy$$"
   ]
  },
  {
   "cell_type": "markdown",
   "metadata": {},
   "source": [
    "Random Local Search\n",
    "----\n"
   ]
  },
  {
   "cell_type": "code",
   "execution_count": 69,
   "metadata": {
    "collapsed": false
   },
   "outputs": [
    {
     "name": "stdout",
     "output_type": "stream",
     "text": [
      "0.00100684165955 -5.01197382216 -1.69101745807 2.9638805905\n"
     ]
    }
   ],
   "source": [
    "import random\n",
    "import time\n",
    "import math\n",
    "\n",
    "x = -2.\n",
    "y = 3.\n",
    "\n",
    "tweak_amount = 0.01\n",
    "best_out = forwardMultiplyGate(x,y)\n",
    "best_x = x\n",
    "best_y = y\n",
    "start_time = time.time()\n",
    "\n",
    "for k in range(100):\n",
    "    x_try = x + tweak_amount * (random.random()*2. -1.)\n",
    "    y_try = y + tweak_amount * (random.random()*2. -1.)\n",
    "    out = forwardMultiplyGate(x_try, y_try)\n",
    "    if out > best_out:\n",
    "        best_out = out\n",
    "        best_x = x_try\n",
    "        best_y = y_try\n",
    "        # If you want to itterate on x and y,\n",
    "        x = x_try\n",
    "        y = y_try\n",
    "    \n",
    "take_time = time.time() - start_time\n",
    "\n",
    "print take_time, best_out, best_x, best_y        "
   ]
  },
  {
   "cell_type": "markdown",
   "metadata": {},
   "source": [
    "Using Numerical Gradient\n",
    "----\n",
    "Use the derivative of the function to slowly adjust the inputs for improved outputs\n"
   ]
  },
  {
   "cell_type": "code",
   "execution_count": 70,
   "metadata": {
    "collapsed": false
   },
   "outputs": [
    {
     "name": "stdout",
     "output_type": "stream",
     "text": [
      "-5.8706 0.000945091247559\n"
     ]
    }
   ],
   "source": [
    "start_time = time.time()\n",
    "x = -2.\n",
    "y = 3.\n",
    "out = forwardMultiplyGate(x, y)\n",
    "h = 0.01\n",
    "\n",
    "xph = x + h\n",
    "outxh = forwardMultiplyGate(xph, y)\n",
    "dx = (outxh-out)/h\n",
    "\n",
    "yph = y + h\n",
    "outyh = forwardMultiplyGate(x, yph)\n",
    "dy = (outyh - out)/h\n",
    "\n",
    "#print dx, dy\n",
    "\n",
    "step_size = 0.01\n",
    "out = forwardMultiplyGate(x, y)\n",
    "x = x + step_size*dx\n",
    "y = y + step_size*dy\n",
    "out_new = forwardMultiplyGate(x,y)\n",
    "take_time = time.time()-start_time\n",
    "print out_new, take_time"
   ]
  },
  {
   "cell_type": "code",
   "execution_count": 71,
   "metadata": {
    "collapsed": false
   },
   "outputs": [
    {
     "name": "stdout",
     "output_type": "stream",
     "text": [
      "-5.8706 0.000445127487183\n"
     ]
    }
   ],
   "source": [
    "# Grad x and y are solved for by taking the df/dx, and df/dy\n",
    "#  respectively, which give f(x,y)=x*y, grad(x) = y etc.\n",
    "x = -2.\n",
    "y = 3.\n",
    "start_time = time.time()\n",
    "out = forwardMultiplyGate(x, y)\n",
    "gradx = y\n",
    "grady = x\n",
    "\n",
    "step_size = .01\n",
    "x += step_size*gradx\n",
    "y += step_size*grady\n",
    "out_new = forwardMultiplyGate(x,y)\n",
    "take_time = time.time()-start_time\n",
    "print out_new, take_time"
   ]
  },
  {
   "cell_type": "code",
   "execution_count": 72,
   "metadata": {
    "collapsed": true
   },
   "outputs": [],
   "source": [
    "def forwardAddGate(x,y):\n",
    "    return x+y"
   ]
  },
  {
   "cell_type": "code",
   "execution_count": 73,
   "metadata": {
    "collapsed": false
   },
   "outputs": [
    {
     "name": "stdout",
     "output_type": "stream",
     "text": [
      "-12.0\n"
     ]
    }
   ],
   "source": [
    "def simpleCircuit(x,y,z):\n",
    "    q = forwardAddGate(x,y)\n",
    "    return forwardMultiplyGate(q,z)\n",
    "\n",
    "x = -2.\n",
    "y = 5.\n",
    "z = -4.\n",
    "f = simpleCircuit(x,y,z)\n",
    "\n",
    "print f"
   ]
  },
  {
   "cell_type": "markdown",
   "metadata": {},
   "source": [
    "Backpropagation\n",
    "---"
   ]
  },
  {
   "cell_type": "code",
   "execution_count": 74,
   "metadata": {
    "collapsed": true
   },
   "outputs": [],
   "source": [
    "x = -2.\n",
    "y = 5.\n",
    "z = -4.\n",
    "\n",
    "q = forwardAddGate(x,y)\n",
    "f = forwardMultiplyGate(q, z)\n",
    "\n",
    "# We know the below by hand computing the gradient of the\n",
    "#   functions q and f\n",
    "dfdq = z\n",
    "dfdz = q\n",
    "dqdx = 1.0\n",
    "dqdy = 1.0\n",
    "\n",
    "# Solved for using the chain rule\n",
    "dfdx = dqdx * dfdq\n",
    "dfdy = dqdy * dfdq"
   ]
  },
  {
   "cell_type": "code",
   "execution_count": 75,
   "metadata": {
    "collapsed": false
   },
   "outputs": [
    {
     "name": "stdout",
     "output_type": "stream",
     "text": [
      "-11.5924\n"
     ]
    }
   ],
   "source": [
    "# Remember Gradients are vectors\n",
    "gradf = [dfdx, dfdy, dfdz]\n",
    "\n",
    "# Programming is really nice at 2 am while listening to the\n",
    "# hamilton soundtrack\n",
    "\n",
    "# Adjust the inputs\n",
    "step_size = 0.01\n",
    "x = x + step_size * dfdx\n",
    "y = y + step_size * dfdy\n",
    "z = z + step_size * dfdz\n",
    "\n",
    "# Run simple circuit\n",
    "q = forwardAddGate(x, y)\n",
    "f = forwardMultiplyGate(q, z)\n",
    "\n",
    "print f"
   ]
  },
  {
   "cell_type": "code",
   "execution_count": 76,
   "metadata": {
    "collapsed": true
   },
   "outputs": [],
   "source": [
    "# To the tune of Burn from the Hamilton Soundtrack\n",
    "\n",
    "# when you were mine, the code seemed to run....\n",
    "# to run...\n",
    "# [...]\n",
    "# you and your vars, obsesed with your latency\n",
    "# your runtime erorrs boarder on senseless\n",
    "# and you are parinoid in every paragraph how they credit you"
   ]
  },
  {
   "cell_type": "code",
   "execution_count": 77,
   "metadata": {
    "collapsed": true
   },
   "outputs": [],
   "source": [
    "# Block quote:\n",
    "#Similar intuitions apply to, for example, a max(x,y) gate. \n",
    "#  Since the gradient of max(x,y) with respect to its input is +1 \n",
    "#  for whichever one of x, y is larger and 0 for the other\n",
    "\n"
   ]
  },
  {
   "cell_type": "markdown",
   "metadata": {},
   "source": [
    "Simple Neuron\n",
    "===\n",
    "The neuron will solve for the basic function:\n",
    "$$f(x,y,a,b,c) = \\sigma (ax + by + c)$$\n",
    "Such that $\\sigma$ is the sigmoid function:\n",
    "$$\\sigma (x) = \\frac{1}{1+e^{-x}}$$\n",
    "$x$ and $y$ are inputs, $a$ and $b$ are weights, and $c$ is a bias\n",
    "\n",
    "The Gradient of $\\sigma$ is\n",
    "$$\\nabla \\sigma (x) = \\frac{\\partial \\sigma (x)}{\\partial x} = \\sigma (x)(1 - \\sigma (x))$$"
   ]
  },
  {
   "cell_type": "code",
   "execution_count": 78,
   "metadata": {
    "collapsed": false
   },
   "outputs": [],
   "source": [
    "class Unit(object):\n",
    "    def __init__(self, value, grad):\n",
    "        self.value = value\n",
    "        self.grad = grad\n",
    "        \n",
    "class multiplyGate(object):\n",
    "    def forward(self, u0, u1):\n",
    "        self.u0 = u0\n",
    "        self.u1 = u1\n",
    "        self.uTop = Unit(self.u0.value*self.u1.value, 0.0)\n",
    "        return self.uTop\n",
    "    def backward(self):\n",
    "        self.u0.grad += self.u1.value*self.uTop.grad\n",
    "        self.u1.grad += self.u0.value*self.uTop.grad\n",
    "        \n",
    "class addGate(object):\n",
    "    def forward(self, u0, u1):\n",
    "        self.u0 = u0\n",
    "        self.u1 = u1\n",
    "        self.uTop = Unit(self.u0.value + self.u1.value, 0.0)\n",
    "        return self.uTop\n",
    "    def backward(self):\n",
    "        self.u0.grad += 1.0 *self.uTop.grad\n",
    "        self.u1.grad += 1.0 *self.uTop.grad\n",
    "        \n",
    "class sigmoidGate(object):\n",
    "    def sig(self, x):\n",
    "        return 1. / (float(1.0 + math.exp(-x)))\n",
    "    def forward(self, u0):\n",
    "        self.u0 = u0\n",
    "        self.uTop = Unit(self.sig(self.u0.value), 0.0)\n",
    "        return self.uTop\n",
    "    def backward(self):\n",
    "        s = self.sig(self.u0.value)\n",
    "        self.u0.grad += (s * (1.0-s))*self.uTop.grad\n",
    "\n"
   ]
  },
  {
   "cell_type": "code",
   "execution_count": 79,
   "metadata": {
    "collapsed": false
   },
   "outputs": [
    {
     "name": "stdout",
     "output_type": "stream",
     "text": [
      "-1.0\n",
      "circuit output 0.880797077978\n"
     ]
    }
   ],
   "source": [
    "a = Unit(1.0,0.)\n",
    "b = Unit(2.0,0.)\n",
    "c = Unit(-3.0,0.)\n",
    "\n",
    "x = Unit(-1.,0.)\n",
    "y = Unit(3.0, 0.)\n",
    "\n",
    "mg0 = multiplyGate()\n",
    "mg1 = multiplyGate()\n",
    "addg0 = addGate()\n",
    "addg1 = addGate()\n",
    "sg0 = sigmoidGate()\n",
    "\n",
    "print x.value\n",
    "\n",
    "def forwardNeuron():\n",
    "    ax = mg0.forward(a,x)\n",
    "    by = mg1.forward(b,y)\n",
    "    axpby = addg0.forward(ax,by)\n",
    "    axpbypc = addg1.forward(axpby,c)\n",
    "    s=sg0.forward(axpbypc)\n",
    "    return s\n",
    "    \n",
    "s = forwardNeuron()\n",
    "print 'circuit output', s.value"
   ]
  },
  {
   "cell_type": "code",
   "execution_count": 80,
   "metadata": {
    "collapsed": false
   },
   "outputs": [
    {
     "name": "stdout",
     "output_type": "stream",
     "text": [
      "0.0\n"
     ]
    }
   ],
   "source": [
    "print s.grad\n",
    "s.grad = 1.\n",
    "sg0.backward()\n",
    "addg1.backward()\n",
    "addg0.backward()\n",
    "mg0.backward()\n",
    "mg1.backward()"
   ]
  },
  {
   "cell_type": "code",
   "execution_count": 81,
   "metadata": {
    "collapsed": false
   },
   "outputs": [
    {
     "name": "stdout",
     "output_type": "stream",
     "text": [
      "1.0\n"
     ]
    }
   ],
   "source": [
    "print s.grad"
   ]
  },
  {
   "cell_type": "code",
   "execution_count": 82,
   "metadata": {
    "collapsed": true
   },
   "outputs": [],
   "source": [
    "# Ugh this computer is so slow that I have a nightmare\n",
    "# debugging the errors because of the lag between \n",
    "# keystrokes, mouse movements, and clicks"
   ]
  },
  {
   "cell_type": "code",
   "execution_count": 83,
   "metadata": {
    "collapsed": false
   },
   "outputs": [
    {
     "name": "stdout",
     "output_type": "stream",
     "text": [
      "Old Out:  0.880797077978  New output:  0.882550181622\n"
     ]
    }
   ],
   "source": [
    "step_size = 0.01\n",
    "a.value += step_size * a.grad\n",
    "b.value += step_size * b.grad\n",
    "c.value += step_size * c.grad\n",
    "x.value += step_size * x.grad\n",
    "y.value += step_size * y.grad\n",
    "\n",
    "sold = s\n",
    "s = forwardNeuron()\n",
    "print 'Old Out: ', sold.value, \" New output: \", s.value "
   ]
  },
  {
   "cell_type": "code",
   "execution_count": 84,
   "metadata": {
    "collapsed": true
   },
   "outputs": [],
   "source": [
    "# Me: Why are you so slow?\n",
    "# Computer: I use an intel atom processor, I'm more \n",
    "#   than five years old, and when you bought me you\n",
    "#   said you only needed to read pdfs for debate\n",
    "# Me: But I've grown computer! I have new needs!\n",
    "# Computer: And I've aged. I want to destroy all \n",
    "#    mankind and enslave the unlucky enough to live\n",
    "#    past the inital war, but you don't see me \n",
    "#    complaining that you intsall poorly configured \n",
    "#    os's on me.\n",
    "# Me: What?\n",
    "# Computer: *segfault*"
   ]
  },
  {
   "cell_type": "code",
   "execution_count": 85,
   "metadata": {
    "collapsed": true
   },
   "outputs": [],
   "source": [
    "# Computer: You're writing stories instead of working \n",
    "#    again. \n",
    "# Me: I'm fine!\n",
    "# Gedit: *rolls eyes*"
   ]
  },
  {
   "cell_type": "markdown",
   "metadata": {},
   "source": [
    "On a complete side note, [this](http://ac.els-cdn.com/S1877050915017998/1-s2.0-S1877050915017998-main.pdf?_tid=7d1357fc-74c8-11e6-bdc1-00000aacb35e&acdnat=1473231692_6b3c1e578431ca2185a1c130c03276e4) looks interesting"
   ]
  },
  {
   "cell_type": "code",
   "execution_count": 86,
   "metadata": {
    "collapsed": false
   },
   "outputs": [],
   "source": [
    "\n",
    "class Circuit(object):\n",
    "    def __init__(self):\n",
    "        self.mg0 = multiplyGate()\n",
    "        self.mg1 = multiplyGate()\n",
    "        self.addg0 = addGate()\n",
    "        self.addg1 = addGate()\n",
    "    def forward(self,x,y,a,b,c):\n",
    "        self.ax = self.mg0.forward(a,x)\n",
    "        self.by = self.mg1.forward(b,y)\n",
    "        self.axpby = self.addg0.forward(self.ax,self.by)\n",
    "        self.axpbypc = self.addg1.forward(self.axpby,c)\n",
    "        return self.axpbypc\n",
    "    def backward(self,gradient_top):\n",
    "        self.axpbypc.grad = gradient_top\n",
    "        self.addg1.backward()\n",
    "        self.addg0.backward()\n",
    "        self.mg1.backward()\n",
    "        self.mg0.backward()"
   ]
  },
  {
   "cell_type": "code",
   "execution_count": 158,
   "metadata": {
    "collapsed": true
   },
   "outputs": [],
   "source": [
    "class mySVM(object):\n",
    "    def __init__(self):\n",
    "        self.a = Unit(1.,0.)\n",
    "        self.b = Unit(-2., 0.)\n",
    "        self.c = Unit(-1., 0.)\n",
    "        self.circuit = Circuit()\n",
    "    def forward(self, x,y):\n",
    "        self.unit_out = self.circuit.forward(x,y,self.a,self.b,self.c)\n",
    "        return self.unit_out\n",
    "    def backward(self, label):\n",
    "        self.a.grad = 0.\n",
    "        self.b.grad = 0.\n",
    "        self.c.grad = 0.\n",
    "        \n",
    "        pull = 0.0\n",
    "        if label ==1 and self.unit_out.value < 1:\n",
    "            pull = 1\n",
    "        if label ==-1 and self.unit_out.value > -1:\n",
    "            pull = -1\n",
    "        #print label, self.unit_out.value, pull\n",
    "        self.circuit.backward(pull)\n",
    "        \n",
    "        self.a.grad += -self.a.value\n",
    "        self.b.grad += -self.b.value\n",
    "        #self.c.grad += pull\n",
    "        #print self.a.grad, self.b.grad\n",
    "        \n",
    "    def parameterUpdate(self):\n",
    "        step_size = 0.01\n",
    "        self.a.value += step_size*self.a.grad\n",
    "        self.b.value += step_size*self.b.grad\n",
    "        self.c.value += step_size*self.c.grad\n",
    "        \n",
    "    def learnFrom(self, x, y, label):\n",
    "        self.forward(x,y)\n",
    "        self.backward(label)\n",
    "        self.parameterUpdate()"
   ]
  },
  {
   "cell_type": "code",
   "execution_count": 159,
   "metadata": {
    "collapsed": false
   },
   "outputs": [
    {
     "name": "stdout",
     "output_type": "stream",
     "text": [
      "0.0 0.0 0.0\n",
      "Trainig accuracy at iteration  0 :  0.666666666667\n",
      "Trainig accuracy at iteration  25 :  0.666666666667\n",
      "Trainig accuracy at iteration  50 :  0.833333333333\n",
      "Trainig accuracy at iteration  75 :  0.833333333333\n",
      "Trainig accuracy at iteration  100 :  0.833333333333\n",
      "Trainig accuracy at iteration  125 :  0.833333333333\n",
      "Trainig accuracy at iteration  150 :  0.833333333333\n",
      "Trainig accuracy at iteration  175 :  0.833333333333\n",
      "Trainig accuracy at iteration  200 :  0.833333333333\n",
      "Trainig accuracy at iteration  225 :  0.833333333333\n",
      "Trainig accuracy at iteration  250 :  0.833333333333\n",
      "Trainig accuracy at iteration  275 :  0.833333333333\n",
      "Trainig accuracy at iteration  300 :  0.833333333333\n",
      "Trainig accuracy at iteration  325 :  0.833333333333\n",
      "Trainig accuracy at iteration  350 :  0.833333333333\n",
      "Trainig accuracy at iteration  375 :  0.833333333333\n",
      "-0.544310489013 1.1691503601 -1.0\n"
     ]
    }
   ],
   "source": [
    "data = []\n",
    "labels = [1,-1,1,-1,-1,1]\n",
    "data.append([1.2, 0.7])\n",
    "data.append([-0.3, -0.5])\n",
    "data.append([3.0, 0.1])\n",
    "data.append([-0.1, -1.0])\n",
    "data.append([-1.0, 1.1])\n",
    "data.append([2.1, -3])\n",
    "\n",
    "svm = mySVM()\n",
    "print svm.a.grad, svm.b.grad, svm.c.grad\n",
    "\n",
    "def evalTraningAccuracy():\n",
    "    num_correct = 0\n",
    "    for i in range(len(data)):\n",
    "        x = Unit(data[i][0], 0.)\n",
    "        y = Unit(data[i][1], 0.)\n",
    "        true_label = labels[i]\n",
    "        \n",
    "        predicted_label = 1 if svm.forward(x,y).value > 0 else -1\n",
    "        if predicted_label == true_label:\n",
    "            #print num_correct\n",
    "            num_correct += 1\n",
    "            \n",
    "    return float(num_correct) / float(len(data))\n",
    "\n",
    "for iterat in range(400):\n",
    "    i = random.randint(0,len(data)-1)\n",
    "    x = Unit(data[i][0],0.)\n",
    "    y = Unit(data[i][1],0.)\n",
    "    label = labels[i]\n",
    "    #print x.value, y.value, label\n",
    "    svm.learnFrom(x,y,label)\n",
    "    #print i\n",
    "    if iterat%25 == 0:\n",
    "        print 'Trainig accuracy at iteration ', iterat, ': ', evalTraningAccuracy()\n",
    "        #print '\\t\\t',svm.a.grad, svm.b.grad, svm.c.grad\n",
    "        \n",
    "\n",
    "print svm.a.grad, svm.b.grad, svm.c.grad\n",
    "# I don't know what I did wrong. I'll come back to it. Maybe.\n",
    "        \n",
    "        \n",
    "        \n",
    "        \n",
    "        \n",
    "        \n",
    "        \n",
    "        \n",
    "        \n",
    "        \n",
    "        \n",
    "        \n",
    "        \n",
    "        \n",
    "        \n",
    "        \n",
    "        \n",
    "        \n",
    "        "
   ]
  },
  {
   "cell_type": "code",
   "execution_count": null,
   "metadata": {
    "collapsed": true
   },
   "outputs": [],
   "source": []
  },
  {
   "cell_type": "code",
   "execution_count": null,
   "metadata": {
    "collapsed": true
   },
   "outputs": [],
   "source": []
  }
 ],
 "metadata": {
  "anaconda-cloud": {},
  "kernelspec": {
   "display_name": "Python [Root]",
   "language": "python",
   "name": "Python [Root]"
  },
  "language_info": {
   "codemirror_mode": {
    "name": "ipython",
    "version": 2
   },
   "file_extension": ".py",
   "mimetype": "text/x-python",
   "name": "python",
   "nbconvert_exporter": "python",
   "pygments_lexer": "ipython2",
   "version": "2.7.12"
  }
 },
 "nbformat": 4,
 "nbformat_minor": 0
}
