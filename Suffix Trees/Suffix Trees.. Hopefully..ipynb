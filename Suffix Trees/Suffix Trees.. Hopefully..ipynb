{
 "cells": [
  {
   "cell_type": "code",
   "execution_count": 5,
   "metadata": {
    "collapsed": false
   },
   "outputs": [],
   "source": [
    "'''\n",
    "             [ROOT]\n",
    "     /          |          \\\n",
    "   a            b            c\n",
    " /  \\   \\     / | \\        /  \\\n",
    "a    b   $   a  b   c     a    b\n",
    "b   c        $  a  a b    a    b\n",
    "c  a b          $  a b    b    a\n",
    "b  a b             b a    c    $\n",
    "b  b a             c $    b\n",
    "a  c $             b      b\n",
    "$  b               b      a\n",
    "   b               a      $\n",
    "   a               $\n",
    "   $\n",
    "'''\n",
    "testString = \"abcaabcbba\""
   ]
  },
  {
   "cell_type": "code",
   "execution_count": 8,
   "metadata": {
    "collapsed": false
   },
   "outputs": [],
   "source": [
    "class Node(object):\n",
    "    def __init__(self, father, \n",
    "                 path_position, \n",
    "                 edge_label_start, \n",
    "                 edge_label_end,\n",
    "                 node_index):\n",
    "        \n",
    "        self.father = father # a pointer to the father node\n",
    "        self.suffix_link = 0 # a pointed to the node which reprsents the largest suffix of the current node\n",
    "        self.path_position = path_position # an index of the start position of the nodes path\n",
    "        self.edge_label_start = edge_label_start # start index of the incomming edge\n",
    "        self.edge_label_end = edge_label_end # End index of the incoming edge  \n",
    "        self.note_index = node_index\n",
    "        \n",
    "        "
   ]
  },
  {
   "cell_type": "code",
   "execution_count": null,
   "metadata": {
    "collapsed": true
   },
   "outputs": [],
   "source": [
    "class SuffixTree(object):\n",
    "    def __init__(self, tree_string):\n",
    "        "
   ]
  }
 ],
 "metadata": {
  "anaconda-cloud": {},
  "kernelspec": {
   "display_name": "Python [Root]",
   "language": "python",
   "name": "Python [Root]"
  },
  "language_info": {
   "codemirror_mode": {
    "name": "ipython",
    "version": 2
   },
   "file_extension": ".py",
   "mimetype": "text/x-python",
   "name": "python",
   "nbconvert_exporter": "python",
   "pygments_lexer": "ipython2",
   "version": "2.7.12"
  }
 },
 "nbformat": 4,
 "nbformat_minor": 0
}
